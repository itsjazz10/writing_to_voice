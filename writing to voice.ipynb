{
 "cells": [
  {
   "cell_type": "code",
   "execution_count": 1,
   "id": "df0d9739",
   "metadata": {},
   "outputs": [
    {
     "ename": "SyntaxError",
     "evalue": "invalid syntax (825961016.py, line 1)",
     "output_type": "error",
     "traceback": [
      "\u001b[1;36m  Cell \u001b[1;32mIn[1], line 1\u001b[1;36m\u001b[0m\n\u001b[1;33m    pip uninstall opencv-python\u001b[0m\n\u001b[1;37m        ^\u001b[0m\n\u001b[1;31mSyntaxError\u001b[0m\u001b[1;31m:\u001b[0m invalid syntax\n"
     ]
    }
   ],
   "source": [
    "pip uninstall opencv-python\n",
    "pip install opencv-python-headless\n",
    "pip install opencv-python"
   ]
  },
  {
   "cell_type": "code",
   "execution_count": 2,
   "id": "a9f84b8a",
   "metadata": {},
   "outputs": [
    {
     "name": "stdout",
     "output_type": "stream",
     "text": [
      "Found existing installation: opencv-python 4.11.0.86\n",
      "Uninstalling opencv-python-4.11.0.86:\n",
      "  Successfully uninstalled opencv-python-4.11.0.86\n",
      "Found existing installation: opencv-contrib-python 4.11.0.86\n",
      "Uninstalling opencv-contrib-python-4.11.0.86:\n",
      "  Successfully uninstalled opencv-contrib-python-4.11.0.86\n",
      "Note: you may need to restart the kernel to use updated packages.\n"
     ]
    },
    {
     "name": "stderr",
     "output_type": "stream",
     "text": [
      "WARNING: Ignoring invalid distribution ~pencv-python-headless (C:\\Users\\Jharna Anghore\\AppData\\Local\\Programs\\Python\\Python311\\Lib\\site-packages)\n",
      "WARNING: Skipping opencv-python-headless as it is not installed.\n"
     ]
    }
   ],
   "source": [
    "pip uninstall opencv-python opencv-python-headless opencv-contrib-python -y"
   ]
  },
  {
   "cell_type": "code",
   "execution_count": 3,
   "id": "1b7bebc3",
   "metadata": {},
   "outputs": [
    {
     "name": "stdout",
     "output_type": "stream",
     "text": [
      "Note: you may need to restart the kernel to use updated packages.Collecting opencv-python\n",
      "  Using cached opencv_python-4.11.0.86-cp37-abi3-win_amd64.whl.metadata (20 kB)\n",
      "Requirement already satisfied: numpy>=1.21.2 in c:\\users\\jharna anghore\\appdata\\local\\programs\\python\\python311\\lib\\site-packages (from opencv-python) (2.1.3)\n",
      "Using cached opencv_python-4.11.0.86-cp37-abi3-win_amd64.whl (39.5 MB)\n",
      "Installing collected packages: opencv-python\n",
      "Successfully installed opencv-python-4.11.0.86\n",
      "\n"
     ]
    },
    {
     "name": "stderr",
     "output_type": "stream",
     "text": [
      "WARNING: Ignoring invalid distribution ~pencv-python-headless (C:\\Users\\Jharna Anghore\\AppData\\Local\\Programs\\Python\\Python311\\Lib\\site-packages)\n",
      "WARNING: Ignoring invalid distribution ~pencv-python-headless (C:\\Users\\Jharna Anghore\\AppData\\Local\\Programs\\Python\\Python311\\Lib\\site-packages)\n",
      "WARNING: Ignoring invalid distribution ~pencv-python-headless (C:\\Users\\Jharna Anghore\\AppData\\Local\\Programs\\Python\\Python311\\Lib\\site-packages)\n"
     ]
    }
   ],
   "source": [
    "pip install opencv-python\n"
   ]
  },
  {
   "cell_type": "code",
   "execution_count": 4,
   "id": "2b30a95e",
   "metadata": {
    "scrolled": true
   },
   "outputs": [
    {
     "name": "stdout",
     "output_type": "stream",
     "text": [
      "Collecting opencv-contrib-python\n",
      "  Using cached opencv_contrib_python-4.11.0.86-cp37-abi3-win_amd64.whl.metadata (20 kB)\n",
      "Requirement already satisfied: numpy>=1.21.2 in c:\\users\\jharna anghore\\appdata\\local\\programs\\python\\python311\\lib\\site-packages (from opencv-contrib-python) (2.1.3)\n",
      "Using cached opencv_contrib_python-4.11.0.86-cp37-abi3-win_amd64.whl (46.2 MB)\n",
      "Installing collected packages: opencv-contrib-python\n",
      "Successfully installed opencv-contrib-python-4.11.0.86\n",
      "Note: you may need to restart the kernel to use updated packages.\n"
     ]
    },
    {
     "name": "stderr",
     "output_type": "stream",
     "text": [
      "WARNING: Ignoring invalid distribution ~pencv-python-headless (C:\\Users\\Jharna Anghore\\AppData\\Local\\Programs\\Python\\Python311\\Lib\\site-packages)\n",
      "WARNING: Ignoring invalid distribution ~pencv-python-headless (C:\\Users\\Jharna Anghore\\AppData\\Local\\Programs\\Python\\Python311\\Lib\\site-packages)\n",
      "WARNING: Ignoring invalid distribution ~pencv-python-headless (C:\\Users\\Jharna Anghore\\AppData\\Local\\Programs\\Python\\Python311\\Lib\\site-packages)\n"
     ]
    }
   ],
   "source": [
    "pip install opencv-contrib-python"
   ]
  },
  {
   "cell_type": "code",
   "execution_count": 2,
   "id": "f59b83d6",
   "metadata": {
    "scrolled": true
   },
   "outputs": [
    {
     "name": "stdout",
     "output_type": "stream",
     "text": [
      "Requirement already satisfied: pyttsx3 in c:\\users\\jharna anghore\\appdata\\local\\programs\\python\\python311\\lib\\site-packages (2.98)\n",
      "Requirement already satisfied: comtypes in c:\\users\\jharna anghore\\appdata\\local\\programs\\python\\python311\\lib\\site-packages (from pyttsx3) (1.4.10)\n",
      "Requirement already satisfied: pypiwin32 in c:\\users\\jharna anghore\\appdata\\local\\programs\\python\\python311\\lib\\site-packages (from pyttsx3) (223)\n",
      "Requirement already satisfied: pywin32 in c:\\users\\jharna anghore\\appdata\\local\\programs\\python\\python311\\lib\\site-packages (from pyttsx3) (306)\n",
      "Note: you may need to restart the kernel to use updated packages.\n"
     ]
    },
    {
     "name": "stderr",
     "output_type": "stream",
     "text": [
      "WARNING: Ignoring invalid distribution ~pencv-python-headless (C:\\Users\\Jharna Anghore\\AppData\\Local\\Programs\\Python\\Python311\\Lib\\site-packages)\n",
      "WARNING: Ignoring invalid distribution ~pencv-python-headless (C:\\Users\\Jharna Anghore\\AppData\\Local\\Programs\\Python\\Python311\\Lib\\site-packages)\n",
      "WARNING: Ignoring invalid distribution ~pencv-python-headless (C:\\Users\\Jharna Anghore\\AppData\\Local\\Programs\\Python\\Python311\\Lib\\site-packages)\n"
     ]
    }
   ],
   "source": [
    "pip install pyttsx3"
   ]
  },
  {
   "cell_type": "code",
   "execution_count": 3,
   "id": "fe8b78f5",
   "metadata": {},
   "outputs": [],
   "source": [
    "import pyttsx3"
   ]
  },
  {
   "cell_type": "code",
   "execution_count": 4,
   "id": "89a2d038",
   "metadata": {},
   "outputs": [],
   "source": [
    "engine = pyttsx3.init()\n",
    "engine.setProperty('rate', 150)  # speed of speech (adjust if needed)"
   ]
  },
  {
   "cell_type": "code",
   "execution_count": 5,
   "id": "d980e735",
   "metadata": {},
   "outputs": [
    {
     "name": "stdout",
     "output_type": "stream",
     "text": [
      "Requirement already satisfied: pytesseract in c:\\users\\jharna anghore\\appdata\\local\\programs\\python\\python311\\lib\\site-packages (0.3.13)\n",
      "Requirement already satisfied: packaging>=21.3 in c:\\users\\jharna anghore\\appdata\\local\\programs\\python\\python311\\lib\\site-packages (from pytesseract) (23.0)\n",
      "Requirement already satisfied: Pillow>=8.0.0 in c:\\users\\jharna anghore\\appdata\\local\\programs\\python\\python311\\lib\\site-packages (from pytesseract) (11.1.0)\n",
      "Note: you may need to restart the kernel to use updated packages.\n"
     ]
    },
    {
     "name": "stderr",
     "output_type": "stream",
     "text": [
      "WARNING: Ignoring invalid distribution ~pencv-python-headless (C:\\Users\\Jharna Anghore\\AppData\\Local\\Programs\\Python\\Python311\\Lib\\site-packages)\n",
      "WARNING: Ignoring invalid distribution ~pencv-python-headless (C:\\Users\\Jharna Anghore\\AppData\\Local\\Programs\\Python\\Python311\\Lib\\site-packages)\n",
      "WARNING: Ignoring invalid distribution ~pencv-python-headless (C:\\Users\\Jharna Anghore\\AppData\\Local\\Programs\\Python\\Python311\\Lib\\site-packages)\n"
     ]
    }
   ],
   "source": [
    "pip install pytesseract"
   ]
  },
  {
   "cell_type": "code",
   "execution_count": 3,
   "id": "8fc63ef9",
   "metadata": {
    "scrolled": false
   },
   "outputs": [
    {
     "name": "stderr",
     "output_type": "stream",
     "text": [
      "Neither CUDA nor MPS are available - defaulting to CPU. Note: This module is much faster with a GPU.\n"
     ]
    },
    {
     "name": "stdout",
     "output_type": "stream",
     "text": [
      "Saved as drawing_output.png\n",
      "\n",
      "🧠 EasyOCR Output:\n",
      "📝 Detected: PAPA (Confidence: 0.86)\n",
      "\n",
      "🔊 Speaking: PAPA \n"
     ]
    }
   ],
   "source": [
    "import cv2\n",
    "import numpy as np\n",
    "import easyocr\n",
    "import pytesseract\n",
    "from PIL import Image\n",
    "import pyttsx3\n",
    "\n",
    " # Setup Text-to-Speech\n",
    "engine = pyttsx3.init()\n",
    "engine.setProperty('rate', 100)\n",
    "# Canvas settings\n",
    "canvas = np.ones((500, 800, 3), dtype=\"uint8\") * 255\n",
    "colors = [(0, 0, 0), (255, 0, 0), (0, 128, 0), (0, 0, 255)]\n",
    "color_index = 0\n",
    "cursor_pos = (0, 0)\n",
    "drawing = False\n",
    "last_point = None\n",
    "tool = 'draw'  # draw or erase\n",
    "\n",
    "# Drawing function\n",
    "def draw(event, x, y, flags, param):\n",
    "    global drawing, last_point, cursor_pos, canvas, tool\n",
    "    cursor_pos = (x, y)\n",
    "\n",
    "    if event == cv2.EVENT_LBUTTONDOWN:\n",
    "        drawing = True\n",
    "        last_point = (x, y)\n",
    "    elif event == cv2.EVENT_MOUSEMOVE and drawing:\n",
    "        if last_point is not None:\n",
    "            if tool == 'draw':\n",
    "                cv2.line(canvas, last_point, (x, y), colors[color_index], 5)\n",
    "            elif tool == 'erase':\n",
    "                cv2.line(canvas, last_point, (x, y), (255, 255, 255), 20)\n",
    "            last_point = (x, y)\n",
    "    elif event == cv2.EVENT_LBUTTONUP:\n",
    "        drawing = False\n",
    "        last_point = None\n",
    "\n",
    "# Setup window and callback\n",
    "cv2.namedWindow(\"Draw\")\n",
    "cv2.setMouseCallback(\"Draw\", draw)\n",
    "\n",
    "while True:\n",
    "    display = canvas.copy()\n",
    "\n",
    "    # Guides\n",
    "    cv2.line(display, (50, 400), (750, 400), (200, 200, 200), 1)\n",
    "    cv2.rectangle(display, (50, 100), (750, 600), (220, 220, 220), 1)\n",
    "\n",
    "    # Cursor\n",
    "    cv2.circle(display, cursor_pos, 2, (50, 50, 50), -1)\n",
    "\n",
    "    # Info\n",
    "    cv2.putText(display, f\"Mode: {tool.upper()}\", (10, 20), cv2.FONT_HERSHEY_SIMPLEX, 0.6, (0, 0, 0), 1)\n",
    "    if tool == 'draw':\n",
    "        cv2.putText(display, f\"Color: {colors[color_index]}\", (10, 45), cv2.FONT_HERSHEY_SIMPLEX, 0.5, colors[color_index], 1)\n",
    "    cv2.putText(display, f\"Cursor: {cursor_pos}\", (10, 70), cv2.FONT_HERSHEY_SIMPLEX, 0.5, (0, 0, 0), 1)\n",
    "\n",
    "    # Help text\n",
    "    cv2.putText(display, \"D: Draw | E: Erase | N: Next Color | C: Clear | S: Save/Extract | ESC: Exit\",\n",
    "                (10, 480), cv2.FONT_HERSHEY_SIMPLEX, 0.5, (100, 100, 100), 1)\n",
    "\n",
    "    cv2.imshow(\"Draw\", display)\n",
    "    key = cv2.waitKey(1) & 0xFF\n",
    "\n",
    "    if key == ord('d'):\n",
    "        tool = 'draw'\n",
    "    elif key == ord('e'):\n",
    "        tool = 'erase'\n",
    "    elif key == ord('c'):\n",
    "        canvas[:] = 255\n",
    "    elif key == ord('n'):\n",
    "        color_index = (color_index + 1) % len(colors)\n",
    "    elif key == ord('s'):\n",
    "        cv2.imwrite(\"drawing_output.png\", canvas)\n",
    "        print(\"Saved as drawing_output.png\")\n",
    "\n",
    "        gray = cv2.cvtColor(canvas, cv2.COLOR_BGR2GRAY)\n",
    "        blurred = cv2.GaussianBlur(gray, (5, 5), 0)\n",
    "        _, thresh = cv2.threshold(blurred, 0, 255, cv2.THRESH_BINARY_INV + cv2.THRESH_OTSU)\n",
    "\n",
    "        coords = cv2.findNonZero(thresh)\n",
    "        if coords is not None:\n",
    "            x, y, w, h = cv2.boundingRect(coords)\n",
    "            cropped = canvas[y:y+h, x:x+w]\n",
    "\n",
    "            cropped_gray = cv2.cvtColor(cropped, cv2.COLOR_BGR2GRAY)\n",
    "            _, prepped = cv2.threshold(cropped_gray, 0, 255, cv2.THRESH_BINARY_INV + cv2.THRESH_OTSU)\n",
    "\n",
    "            kernel = np.ones((2, 2), np.uint8)\n",
    "            dilated = cv2.dilate(prepped, kernel, iterations=1)\n",
    "\n",
    "            cv2.imshow(\"Extracted Drawing\", cropped)\n",
    "\n",
    "            # EasyOCR\n",
    "            reader = easyocr.Reader(['en'])\n",
    "            result = reader.readtext(dilated)\n",
    "\n",
    "            print(\"\\n🧠 EasyOCR Output:\")\n",
    "            spoken_text = \"\"\n",
    "            for (_, text, conf) in result:\n",
    "                print(f\"📝 Detected: {text} (Confidence: {conf:.2f})\")\n",
    "                spoken_text += text + \" \"\n",
    "\n",
    "            # Fallback to Tesseract\n",
    "            if not spoken_text.strip():\n",
    "                dilated_rgb = cv2.cvtColor(dilated, cv2.COLOR_GRAY2RGB)\n",
    "                pil_img = Image.fromarray(dilated_rgb)\n",
    "                spoken_text = pytesseract.image_to_string(pil_img, lang='eng').strip()\n",
    "                print(\"\\n🔄 Tesseract Backup OCR:\")\n",
    "                print(spoken_text)\n",
    "        \n",
    "            # Text-to-Speech\n",
    "            if spoken_text.strip():\n",
    "                print(f\"\\n🔊 Speaking: {spoken_text}\")\n",
    "                engine.say(spoken_text)\n",
    "                engine.runAndWait()\n",
    "            else:\n",
    "                print(\"❌ No text found to speak.\")\n",
    "        else:\n",
    "            print(\"❌ No handwriting detected on canvas!\")\n",
    "    elif key == 27:\n",
    "        break\n",
    "\n",
    "cv2.destroyAllWindows()\n"
   ]
  },
  {
   "cell_type": "code",
   "execution_count": 2,
   "id": "2532c4ce",
   "metadata": {},
   "outputs": [],
   "source": [
    "voices = engine.getProperty('voices') #this will give the list of available voices\n",
    "engine.setProperty('voice', voices[0].id)"
   ]
  },
  {
   "cell_type": "code",
   "execution_count": null,
   "id": "094cb76a",
   "metadata": {},
   "outputs": [],
   "source": []
  }
 ],
 "metadata": {
  "kernelspec": {
   "display_name": "Python 3.10 (TF)",
   "language": "python",
   "name": "tf310"
  },
  "language_info": {
   "codemirror_mode": {
    "name": "ipython",
    "version": 3
   },
   "file_extension": ".py",
   "mimetype": "text/x-python",
   "name": "python",
   "nbconvert_exporter": "python",
   "pygments_lexer": "ipython3",
   "version": "3.12.2"
  }
 },
 "nbformat": 4,
 "nbformat_minor": 5
}
